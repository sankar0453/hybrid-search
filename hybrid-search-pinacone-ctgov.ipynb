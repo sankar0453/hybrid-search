{
 "cells": [
  {
   "cell_type": "code",
   "execution_count": 1,
   "metadata": {},
   "outputs": [],
   "source": [
    "import os\n",
    "from dotenv import load_dotenv\n",
    "\n",
    "load_dotenv()\n",
    "os.environ['PINECONE_KEY']=os.getenv(\"PINECONE_KEY\")\n",
    "pinecone_api_key=os.getenv('PINECONE_KEY')\n",
    "\n",
    "os.environ['HUGGINGFACEHUB_API_TOKEN']=os.getenv(\"HUGGINGFACEHUB_API_TOKEN\")\n",
    "hf_api_key=os.getenv('HUGGINGFACEHUB_API_TOKEN')\n"
   ]
  },
  {
   "cell_type": "code",
   "execution_count": null,
   "metadata": {},
   "outputs": [],
   "source": [
    "%pip install   langchain-community langchain-huggingface"
   ]
  },
  {
   "cell_type": "code",
   "execution_count": 3,
   "metadata": {},
   "outputs": [
    {
     "name": "stdout",
     "output_type": "stream",
     "text": [
      "Note: you may need to restart the kernel to use updated packages.\n"
     ]
    }
   ],
   "source": [
    "%pip install --upgrade --quiet  pinecone-client pinecone-text pinecone-notebooks"
   ]
  },
  {
   "cell_type": "code",
   "execution_count": 2,
   "metadata": {},
   "outputs": [],
   "source": [
    "from langchain_community.retrievers import PineconeHybridSearchRetriever"
   ]
  },
  {
   "cell_type": "code",
   "execution_count": 3,
   "metadata": {},
   "outputs": [
    {
     "name": "stderr",
     "output_type": "stream",
     "text": [
      "d:\\Datascience_workspace_2023\\genai-bootcamp-llmapps\\venv\\lib\\site-packages\\pinecone\\data\\index.py:1: TqdmWarning: IProgress not found. Please update jupyter and ipywidgets. See https://ipywidgets.readthedocs.io/en/stable/user_install.html\n",
      "  from tqdm.autonotebook import tqdm\n"
     ]
    }
   ],
   "source": [
    "import os\n",
    "\n",
    "from pinecone import Pinecone, ServerlessSpec\n",
    "\n",
    "index_name = \"ctgov-pinecone-hybrid-search\"\n",
    "\n",
    "# initialize Pinecone client\n",
    "pc = Pinecone(api_key=pinecone_api_key)\n",
    "\n",
    "# create the index\n",
    "if index_name not in pc.list_indexes().names():\n",
    "    pc.create_index(\n",
    "        name=index_name,\n",
    "        dimension=384 ,  # dimensionality of dense model\n",
    "        metric=\"dotproduct\",  # sparse values supported only for dotproduct\n",
    "        spec=ServerlessSpec(cloud=\"aws\", region=\"us-east-1\"),\n",
    "    )"
   ]
  },
  {
   "cell_type": "code",
   "execution_count": 4,
   "metadata": {},
   "outputs": [],
   "source": [
    "index = pc.Index(index_name)"
   ]
  },
  {
   "cell_type": "code",
   "execution_count": 5,
   "metadata": {},
   "outputs": [
    {
     "data": {
      "text/plain": [
       "HuggingFaceEmbeddings(client=SentenceTransformer(\n",
       "  (0): Transformer({'max_seq_length': 256, 'do_lower_case': False}) with Transformer model: BertModel \n",
       "  (1): Pooling({'word_embedding_dimension': 384, 'pooling_mode_cls_token': False, 'pooling_mode_mean_tokens': True, 'pooling_mode_max_tokens': False, 'pooling_mode_mean_sqrt_len_tokens': False, 'pooling_mode_weightedmean_tokens': False, 'pooling_mode_lasttoken': False, 'include_prompt': True})\n",
       "  (2): Normalize()\n",
       "), model_name='all-MiniLM-L6-v2', cache_folder=None, model_kwargs={}, encode_kwargs={}, multi_process=False, show_progress=False)"
      ]
     },
     "execution_count": 5,
     "metadata": {},
     "output_type": "execute_result"
    }
   ],
   "source": [
    "from langchain_huggingface import HuggingFaceEmbeddings\n",
    "\n",
    "hf_embeedings=HuggingFaceEmbeddings(model_name=\"all-MiniLM-L6-v2\")\n",
    "hf_embeedings"
   ]
  },
  {
   "cell_type": "code",
   "execution_count": 6,
   "metadata": {},
   "outputs": [],
   "source": [
    "from pinecone_text.sparse import BM25Encoder\n",
    "\n",
    "# use default tf-idf values\n",
    "bm25_encoder = BM25Encoder().default()"
   ]
  },
  {
   "cell_type": "code",
   "execution_count": 7,
   "metadata": {},
   "outputs": [
    {
     "name": "stderr",
     "output_type": "stream",
     "text": [
      "100%|██████████| 10/10 [00:00<00:00, 1101.79it/s]\n"
     ]
    }
   ],
   "source": [
    "corpus = [\n",
    "\"Safety and Efficacy of KLS-1 Monotherapy in Malignant Neoplasms\",\n",
    "\"A Single Group Study to Evaluate the Effects of a Probiotic Supplement on Vaginal Health.\",\n",
    "\"Clinical Study of FB1001 in Patients\",\n",
    "\"Study of the Effect of HFA-152a and HFA-134a Propellants on Mucociliary Clearance in Healthy Participants\",\n",
    "\"Investigation of Optimal Dosage Regimen for HRS9531 Tablets in Healthy Subjects\",\n",
    "\"Effectiveness of Qualia NAD+ Supplementation on Intracellular NAD Levels\",\n",
    "\"A Clinical Trial of Hepalatide for Injection in Patients With Chronic Hepatitis D\",\n",
    "\"A Study of BL-M14D1 in Patients With Locally Advanced or Metastatic Small Cell Lung Cancer, Neuroendocrine Tumors and Other Solid Tumors\",\n",
    "\"A Clinical Trial to Assess the Impact of an Alcohol Alternative Herbal Tincture on Signs of Stress Anxiety and Sleep Quality.\",\n",
    "\"Phase 1/2 Study of Autologous SCG142 TCR T Cells in Patients With HPV16/52-positive Carcinoma\"\n",
    "]\n",
    "bm25_encoder.fit(corpus)\n",
    "bm25_encoder.dump(\"bm25_values.json\")\n",
    "bm25_encoder = BM25Encoder().load(\"bm25_values.json\")"
   ]
  },
  {
   "cell_type": "code",
   "execution_count": 8,
   "metadata": {},
   "outputs": [],
   "source": [
    "retriever = PineconeHybridSearchRetriever(\n",
    "    embeddings=hf_embeedings, sparse_encoder=bm25_encoder, index=index\n",
    ")"
   ]
  },
  {
   "cell_type": "code",
   "execution_count": 10,
   "metadata": {},
   "outputs": [
    {
     "name": "stderr",
     "output_type": "stream",
     "text": [
      "100%|██████████| 1/1 [00:03<00:00,  3.21s/it]\n"
     ]
    }
   ],
   "source": [
    "retriever.add_texts( [\n",
    "\"Safety and Efficacy of KLS-1 Monotherapy in Malignant Neoplasms\",\n",
    "\"A Single Group Study to Evaluate the Effects of a Probiotic Supplement on Vaginal Health.\",\n",
    "\"Clinical Study of FB1001 in Patients\",\n",
    "\"Study of the Effect of HFA-152a and HFA-134a Propellants on Mucociliary Clearance in Healthy Participants\",\n",
    "\"Investigation of Optimal Dosage Regimen for HRS9531 Tablets in Healthy Subjects\",\n",
    "\"Effectiveness of Qualia NAD+ Supplementation on Intracellular NAD Levels\",\n",
    "\"A Clinical Trial of Hepalatide for Injection in Patients With Chronic Hepatitis D\",\n",
    "\"A Study of BL-M14D1 in Patients With Locally Advanced or Metastatic Small Cell Lung Cancer, Neuroendocrine Tumors and Other Solid Tumors\",\n",
    "\"A Clinical Trial to Assess the Impact of an Alcohol Alternative Herbal Tincture on Signs of Stress Anxiety and Sleep Quality.\",\n",
    "\"Phase 1/2 Study of Autologous SCG142 TCR T Cells in Patients With HPV16/52-positive Carcinoma\"\n",
    "])"
   ]
  },
  {
   "cell_type": "code",
   "execution_count": 11,
   "metadata": {},
   "outputs": [
    {
     "data": {
      "text/plain": [
       "[Document(page_content='A Clinical Trial of Hepalatide for Injection in Patients With Chronic Hepatitis D'),\n",
       " Document(page_content='A Clinical Trial to Assess the Impact of an Alcohol Alternative Herbal Tincture on Signs of Stress Anxiety and Sleep Quality.'),\n",
       " Document(page_content='Study of the Effect of HFA-152a and HFA-134a Propellants on Mucociliary Clearance in Healthy Participants'),\n",
       " Document(page_content='Investigation of Optimal Dosage Regimen for HRS9531 Tablets in Healthy Subjects')]"
      ]
     },
     "execution_count": 11,
     "metadata": {},
     "output_type": "execute_result"
    }
   ],
   "source": [
    "retriever.invoke(\"What are the Hepatities trials?\")"
   ]
  },
  {
   "cell_type": "code",
   "execution_count": 12,
   "metadata": {},
   "outputs": [
    {
     "data": {
      "text/plain": [
       "[Document(page_content='Phase 1/2 Study of Autologous SCG142 TCR T Cells in Patients With HPV16/52-positive Carcinoma'),\n",
       " Document(page_content='Safety and Efficacy of KLS-1 Monotherapy in Malignant Neoplasms'),\n",
       " Document(page_content='Investigation of Optimal Dosage Regimen for HRS9531 Tablets in Healthy Subjects'),\n",
       " Document(page_content='Clinical Study of FB1001 in Patients')]"
      ]
     },
     "execution_count": 12,
     "metadata": {},
     "output_type": "execute_result"
    }
   ],
   "source": [
    "retriever.invoke(\"Phase 1 titles\")"
   ]
  },
  {
   "cell_type": "code",
   "execution_count": 13,
   "metadata": {},
   "outputs": [
    {
     "data": {
      "text/plain": [
       "[Document(page_content='Phase 1/2 Study of Autologous SCG142 TCR T Cells in Patients With HPV16/52-positive Carcinoma'),\n",
       " Document(page_content='Safety and Efficacy of KLS-1 Monotherapy in Malignant Neoplasms'),\n",
       " Document(page_content='Investigation of Optimal Dosage Regimen for HRS9531 Tablets in Healthy Subjects'),\n",
       " Document(page_content='A Study of BL-M14D1 in Patients With Locally Advanced or Metastatic Small Cell Lung Cancer, Neuroendocrine Tumors and Other Solid Tumors')]"
      ]
     },
     "execution_count": 13,
     "metadata": {},
     "output_type": "execute_result"
    }
   ],
   "source": [
    "retriever.invoke(\"Phase 1/2 titles\")"
   ]
  },
  {
   "cell_type": "code",
   "execution_count": 14,
   "metadata": {},
   "outputs": [
    {
     "data": {
      "text/plain": [
       "[Document(page_content='A Study of BL-M14D1 in Patients With Locally Advanced or Metastatic Small Cell Lung Cancer, Neuroendocrine Tumors and Other Solid Tumors'),\n",
       " Document(page_content='Safety and Efficacy of KLS-1 Monotherapy in Malignant Neoplasms'),\n",
       " Document(page_content='Investigation of Optimal Dosage Regimen for HRS9531 Tablets in Healthy Subjects'),\n",
       " Document(page_content='Effectiveness of Qualia NAD+ Supplementation on Intracellular NAD Levels')]"
      ]
     },
     "execution_count": 14,
     "metadata": {},
     "output_type": "execute_result"
    }
   ],
   "source": [
    "retriever.invoke(\"Extract all the cancer drugs\")"
   ]
  },
  {
   "cell_type": "code",
   "execution_count": 15,
   "metadata": {},
   "outputs": [
    {
     "data": {
      "text/plain": [
       "[Document(page_content='A Study of BL-M14D1 in Patients With Locally Advanced or Metastatic Small Cell Lung Cancer, Neuroendocrine Tumors and Other Solid Tumors'),\n",
       " Document(page_content='Safety and Efficacy of KLS-1 Monotherapy in Malignant Neoplasms'),\n",
       " Document(page_content='Investigation of Optimal Dosage Regimen for HRS9531 Tablets in Healthy Subjects'),\n",
       " Document(page_content='Effectiveness of Qualia NAD+ Supplementation on Intracellular NAD Levels')]"
      ]
     },
     "execution_count": 15,
     "metadata": {},
     "output_type": "execute_result"
    }
   ],
   "source": [
    "retriever.invoke(\"Extract all the non cancer drugs\")"
   ]
  },
  {
   "cell_type": "code",
   "execution_count": 18,
   "metadata": {},
   "outputs": [
    {
     "name": "stdout",
     "output_type": "stream",
     "text": [
      "CPU times: total: 719 ms\n",
      "Wall time: 292 ms\n"
     ]
    },
    {
     "data": {
      "text/plain": [
       "[Document(page_content='Investigation of Optimal Dosage Regimen for HRS9531 Tablets in Healthy Subjects'),\n",
       " Document(page_content='A Study of BL-M14D1 in Patients With Locally Advanced or Metastatic Small Cell Lung Cancer, Neuroendocrine Tumors and Other Solid Tumors'),\n",
       " Document(page_content='Clinical Study of FB1001 in Patients'),\n",
       " Document(page_content='A Clinical Trial to Assess the Impact of an Alcohol Alternative Herbal Tincture on Signs of Stress Anxiety and Sleep Quality.')]"
      ]
     },
     "execution_count": 18,
     "metadata": {},
     "output_type": "execute_result"
    }
   ],
   "source": [
    "%%time\n",
    "retriever.invoke(\"Titles with the tablets\")"
   ]
  }
 ],
 "metadata": {
  "kernelspec": {
   "display_name": "Python 3",
   "language": "python",
   "name": "python3"
  },
  "language_info": {
   "codemirror_mode": {
    "name": "ipython",
    "version": 3
   },
   "file_extension": ".py",
   "mimetype": "text/x-python",
   "name": "python",
   "nbconvert_exporter": "python",
   "pygments_lexer": "ipython3",
   "version": "3.10.14"
  }
 },
 "nbformat": 4,
 "nbformat_minor": 2
}
